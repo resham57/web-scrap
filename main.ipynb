{
 "cells": [
  {
   "cell_type": "code",
   "execution_count": 1,
   "metadata": {
    "collapsed": true
   },
   "outputs": [],
   "source": [
    "!pip install requests --upgrade --quiet"
   ]
  },
  {
   "cell_type": "code",
   "execution_count": 2,
   "outputs": [],
   "source": [
    "!pip install beautifulsoup4 --upgrade --quiet"
   ],
   "metadata": {
    "collapsed": false
   }
  },
  {
   "cell_type": "code",
   "execution_count": 3,
   "outputs": [],
   "source": [
    "!pip install pandas --quiet"
   ],
   "metadata": {
    "collapsed": false
   }
  },
  {
   "cell_type": "code",
   "execution_count": 4,
   "outputs": [],
   "source": [
    "import requests"
   ],
   "metadata": {
    "collapsed": false
   }
  },
  {
   "cell_type": "code",
   "execution_count": 5,
   "outputs": [],
   "source": [
    "from bs4 import BeautifulSoup"
   ],
   "metadata": {
    "collapsed": false
   }
  },
  {
   "cell_type": "code",
   "execution_count": 6,
   "outputs": [],
   "source": [
    "import pandas as pd"
   ],
   "metadata": {
    "collapsed": false
   }
  },
  {
   "cell_type": "code",
   "execution_count": 7,
   "outputs": [],
   "source": [
    "def get_page(link):\n",
    "    response = requests.get(link)\n",
    "\n",
    "    if response.status_code != 200:\n",
    "        raise Exception(f\"Failed to fetch the page. Status code: {response.status_code}\")\n",
    "\n",
    "    soup = BeautifulSoup(response.text, 'html.parser')\n",
    "    return soup"
   ],
   "metadata": {
    "collapsed": false
   }
  },
  {
   "cell_type": "code",
   "execution_count": 8,
   "outputs": [],
   "source": [
    "def get_articles(soup):\n",
    "    articles_wrapper = soup.find('div', class_='listical-news-big')\n",
    "    posts = articles_wrapper.find_all('div', class_='ok-news-post')\n",
    "\n",
    "    data = []\n",
    "    for post in posts:\n",
    "        title = post.get_text(strip=True)\n",
    "        link = post.find('a')['href']\n",
    "        thumbnail = post.find('img')['src']\n",
    "\n",
    "        data.append({\n",
    "            \"title\": title,\n",
    "            \"link\": url + link if link.startswith('/') else link,\n",
    "            \"thumbnail\": thumbnail\n",
    "        })\n",
    "\n",
    "    return data"
   ],
   "metadata": {
    "collapsed": false
   }
  },
  {
   "cell_type": "code",
   "execution_count": 9,
   "outputs": [],
   "source": [
    "url = \"https://english.onlinekhabar.com/category/sports\""
   ],
   "metadata": {
    "collapsed": false
   }
  },
  {
   "cell_type": "code",
   "execution_count": 10,
   "outputs": [],
   "source": [
    "page = get_page(url)"
   ],
   "metadata": {
    "collapsed": false
   }
  },
  {
   "cell_type": "code",
   "execution_count": 11,
   "outputs": [],
   "source": [
    "result = get_articles(page)"
   ],
   "metadata": {
    "collapsed": false
   }
  },
  {
   "cell_type": "code",
   "execution_count": 12,
   "outputs": [],
   "source": [
    "result_df = pd.DataFrame(result)"
   ],
   "metadata": {
    "collapsed": false
   }
  },
  {
   "cell_type": "code",
   "execution_count": 13,
   "outputs": [
    {
     "data": {
      "text/plain": "                                                title  \\\n0   Chitwan ends Sudurpashchim’s unbeaten run in N...   \n1   Janakpur clinches thrilling 1-run victory over...   \n2   Karnali Yaks secure first win in NPL3 days ago...   \n3   NPL: Sudurpashchim defeats Kathmandu by 73 run...   \n4   NPL: Janakpur Bolts secures third consecutive ...   \n5   Biratnagar Kings secure first win in NPL, defe...   \n6   NPL: Kathmandu Gurkhas defeats Karnali Yaks by...   \n7   Chitwan secures second consecutive win in NPL6...   \n8   NPL: Sudurpaschim’s stunning start with a 90-r...   \n9   Shikhar Dhawan in Kirtipur (Photos)7 days ago0...   \n10  NPL debut drama: Crowd chaos highlights manage...   \n11  Celebrity buzz at NPL: Trishala Gurung sings ‘...   \n12  U-19 Asia Cup: Nepal faces Sri Lanka in tourna...   \n13  Tickets for NPL opening match ‘Sold Out’2 week...   \n14  Nepal secures second consecutive victory in Bl...   \n15  Nepal secures first victory in Blind T20 Crick...   \n16  NPL will promote tourism and bring out youth t...   \n17  Sunmaya Budha’s quest for ultra-marathon world...   \n18  PM Oli felicitates medalists of 15th Bodybuild...   \n19  Rising star: Puja Mahato gains popularity foll...   \n\n                                                 link  \\\n0   https://english.onlinekhabar.com/chitwan-ends-...   \n1   https://english.onlinekhabar.com/janakpur-clin...   \n2   https://english.onlinekhabar.com/karnali-yaks-...   \n3   https://english.onlinekhabar.com/npl-sudurpash...   \n4   https://english.onlinekhabar.com/npl-janakpur-...   \n5   https://english.onlinekhabar.com/biratnagar-ki...   \n6   https://english.onlinekhabar.com/npl-kathmandu...   \n7   https://english.onlinekhabar.com/chitwan-secur...   \n8   https://english.onlinekhabar.com/npl-sudurpasc...   \n9   https://english.onlinekhabar.com/shikhar-dhawa...   \n10  https://english.onlinekhabar.com/npl-debut-dra...   \n11  https://english.onlinekhabar.com/celebrity-buz...   \n12  https://english.onlinekhabar.com/u-19-asia-cup...   \n13  https://english.onlinekhabar.com/tickets-for-n...   \n14  https://english.onlinekhabar.com/nepal-secures...   \n15  https://english.onlinekhabar.com/nepal-secures...   \n16  https://english.onlinekhabar.com/npl-will-prom...   \n17  https://english.onlinekhabar.com/sunmaya-budha...   \n18  https://english.onlinekhabar.com/pm-oli-felici...   \n19  https://english.onlinekhabar.com/rising-star-p...   \n\n                                            thumbnail  \n0   https://english.onlinekhabar.com/wp-content/up...  \n1   https://english.onlinekhabar.com/wp-content/up...  \n2   https://english.onlinekhabar.com/wp-content/up...  \n3   https://english.onlinekhabar.com/wp-content/up...  \n4   https://english.onlinekhabar.com/wp-content/up...  \n5   https://english.onlinekhabar.com/wp-content/up...  \n6   https://english.onlinekhabar.com/wp-content/up...  \n7   https://english.onlinekhabar.com/wp-content/up...  \n8   https://english.onlinekhabar.com/wp-content/up...  \n9   https://english.onlinekhabar.com/wp-content/up...  \n10  https://english.onlinekhabar.com/wp-content/up...  \n11  https://english.onlinekhabar.com/wp-content/up...  \n12  https://english.onlinekhabar.com/wp-content/up...  \n13  https://english.onlinekhabar.com/wp-content/up...  \n14  https://english.onlinekhabar.com/wp-content/up...  \n15  https://english.onlinekhabar.com/wp-content/up...  \n16  https://english.onlinekhabar.com/wp-content/up...  \n17  https://english.onlinekhabar.com/wp-content/up...  \n18  https://english.onlinekhabar.com/wp-content/up...  \n19  https://english.onlinekhabar.com/wp-content/up...  ",
      "text/html": "<div>\n<style scoped>\n    .dataframe tbody tr th:only-of-type {\n        vertical-align: middle;\n    }\n\n    .dataframe tbody tr th {\n        vertical-align: top;\n    }\n\n    .dataframe thead th {\n        text-align: right;\n    }\n</style>\n<table border=\"1\" class=\"dataframe\">\n  <thead>\n    <tr style=\"text-align: right;\">\n      <th></th>\n      <th>title</th>\n      <th>link</th>\n      <th>thumbnail</th>\n    </tr>\n  </thead>\n  <tbody>\n    <tr>\n      <th>0</th>\n      <td>Chitwan ends Sudurpashchim’s unbeaten run in N...</td>\n      <td>https://english.onlinekhabar.com/chitwan-ends-...</td>\n      <td>https://english.onlinekhabar.com/wp-content/up...</td>\n    </tr>\n    <tr>\n      <th>1</th>\n      <td>Janakpur clinches thrilling 1-run victory over...</td>\n      <td>https://english.onlinekhabar.com/janakpur-clin...</td>\n      <td>https://english.onlinekhabar.com/wp-content/up...</td>\n    </tr>\n    <tr>\n      <th>2</th>\n      <td>Karnali Yaks secure first win in NPL3 days ago...</td>\n      <td>https://english.onlinekhabar.com/karnali-yaks-...</td>\n      <td>https://english.onlinekhabar.com/wp-content/up...</td>\n    </tr>\n    <tr>\n      <th>3</th>\n      <td>NPL: Sudurpashchim defeats Kathmandu by 73 run...</td>\n      <td>https://english.onlinekhabar.com/npl-sudurpash...</td>\n      <td>https://english.onlinekhabar.com/wp-content/up...</td>\n    </tr>\n    <tr>\n      <th>4</th>\n      <td>NPL: Janakpur Bolts secures third consecutive ...</td>\n      <td>https://english.onlinekhabar.com/npl-janakpur-...</td>\n      <td>https://english.onlinekhabar.com/wp-content/up...</td>\n    </tr>\n    <tr>\n      <th>5</th>\n      <td>Biratnagar Kings secure first win in NPL, defe...</td>\n      <td>https://english.onlinekhabar.com/biratnagar-ki...</td>\n      <td>https://english.onlinekhabar.com/wp-content/up...</td>\n    </tr>\n    <tr>\n      <th>6</th>\n      <td>NPL: Kathmandu Gurkhas defeats Karnali Yaks by...</td>\n      <td>https://english.onlinekhabar.com/npl-kathmandu...</td>\n      <td>https://english.onlinekhabar.com/wp-content/up...</td>\n    </tr>\n    <tr>\n      <th>7</th>\n      <td>Chitwan secures second consecutive win in NPL6...</td>\n      <td>https://english.onlinekhabar.com/chitwan-secur...</td>\n      <td>https://english.onlinekhabar.com/wp-content/up...</td>\n    </tr>\n    <tr>\n      <th>8</th>\n      <td>NPL: Sudurpaschim’s stunning start with a 90-r...</td>\n      <td>https://english.onlinekhabar.com/npl-sudurpasc...</td>\n      <td>https://english.onlinekhabar.com/wp-content/up...</td>\n    </tr>\n    <tr>\n      <th>9</th>\n      <td>Shikhar Dhawan in Kirtipur (Photos)7 days ago0...</td>\n      <td>https://english.onlinekhabar.com/shikhar-dhawa...</td>\n      <td>https://english.onlinekhabar.com/wp-content/up...</td>\n    </tr>\n    <tr>\n      <th>10</th>\n      <td>NPL debut drama: Crowd chaos highlights manage...</td>\n      <td>https://english.onlinekhabar.com/npl-debut-dra...</td>\n      <td>https://english.onlinekhabar.com/wp-content/up...</td>\n    </tr>\n    <tr>\n      <th>11</th>\n      <td>Celebrity buzz at NPL: Trishala Gurung sings ‘...</td>\n      <td>https://english.onlinekhabar.com/celebrity-buz...</td>\n      <td>https://english.onlinekhabar.com/wp-content/up...</td>\n    </tr>\n    <tr>\n      <th>12</th>\n      <td>U-19 Asia Cup: Nepal faces Sri Lanka in tourna...</td>\n      <td>https://english.onlinekhabar.com/u-19-asia-cup...</td>\n      <td>https://english.onlinekhabar.com/wp-content/up...</td>\n    </tr>\n    <tr>\n      <th>13</th>\n      <td>Tickets for NPL opening match ‘Sold Out’2 week...</td>\n      <td>https://english.onlinekhabar.com/tickets-for-n...</td>\n      <td>https://english.onlinekhabar.com/wp-content/up...</td>\n    </tr>\n    <tr>\n      <th>14</th>\n      <td>Nepal secures second consecutive victory in Bl...</td>\n      <td>https://english.onlinekhabar.com/nepal-secures...</td>\n      <td>https://english.onlinekhabar.com/wp-content/up...</td>\n    </tr>\n    <tr>\n      <th>15</th>\n      <td>Nepal secures first victory in Blind T20 Crick...</td>\n      <td>https://english.onlinekhabar.com/nepal-secures...</td>\n      <td>https://english.onlinekhabar.com/wp-content/up...</td>\n    </tr>\n    <tr>\n      <th>16</th>\n      <td>NPL will promote tourism and bring out youth t...</td>\n      <td>https://english.onlinekhabar.com/npl-will-prom...</td>\n      <td>https://english.onlinekhabar.com/wp-content/up...</td>\n    </tr>\n    <tr>\n      <th>17</th>\n      <td>Sunmaya Budha’s quest for ultra-marathon world...</td>\n      <td>https://english.onlinekhabar.com/sunmaya-budha...</td>\n      <td>https://english.onlinekhabar.com/wp-content/up...</td>\n    </tr>\n    <tr>\n      <th>18</th>\n      <td>PM Oli felicitates medalists of 15th Bodybuild...</td>\n      <td>https://english.onlinekhabar.com/pm-oli-felici...</td>\n      <td>https://english.onlinekhabar.com/wp-content/up...</td>\n    </tr>\n    <tr>\n      <th>19</th>\n      <td>Rising star: Puja Mahato gains popularity foll...</td>\n      <td>https://english.onlinekhabar.com/rising-star-p...</td>\n      <td>https://english.onlinekhabar.com/wp-content/up...</td>\n    </tr>\n  </tbody>\n</table>\n</div>"
     },
     "execution_count": 13,
     "metadata": {},
     "output_type": "execute_result"
    }
   ],
   "source": [
    "result_df"
   ],
   "metadata": {
    "collapsed": false
   }
  }
 ],
 "metadata": {
  "kernelspec": {
   "display_name": "Python 3",
   "language": "python",
   "name": "python3"
  },
  "language_info": {
   "codemirror_mode": {
    "name": "ipython",
    "version": 2
   },
   "file_extension": ".py",
   "mimetype": "text/x-python",
   "name": "python",
   "nbconvert_exporter": "python",
   "pygments_lexer": "ipython2",
   "version": "2.7.6"
  }
 },
 "nbformat": 4,
 "nbformat_minor": 0
}
